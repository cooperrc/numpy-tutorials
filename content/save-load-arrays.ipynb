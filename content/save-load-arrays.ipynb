{
 "cells": [
  {
   "cell_type": "markdown",
   "metadata": {},
   "source": [
    "# Saving and sharing your NumPy arrays\n",
    "\n",
    "## What you'll learn\n",
    "\n",
    "You'll save your NumPy arrays as zipped files and human-readable comma-delimited files i.e. \\*.csv. You also learn to load both of these file types back into NumPy workspaces.\n",
    "\n",
    "## What you'll do\n",
    "\n",
    "* You'll create a few N-dimensional arrays. \n",
    "* You'll save these arrays to files\n",
    "* You'll remove variables from your workspace\n",
    "* You'll load the variables from your saved file\n",
    "* You'll compare zipped binary files to human-readable delimited files\n",
    "* You'll finish with the skills of saving, loading, and sharing NumPy arrays \n",
    "\n",
    "\n",
    "## What you'll need\n",
    "\n",
    "* NumPy\n",
    "* read-write access to your working directory\n",
    "\n",
    "All of the necessary functions are loaded using the following command."
   ]
  },
  {
   "cell_type": "code",
   "execution_count": null,
   "metadata": {},
   "outputs": [],
   "source": [
    "import numpy as np"
   ]
  },
  {
   "cell_type": "markdown",
   "metadata": {},
   "source": [
    "In this tutorial, we will use the following Python, IPython magic, and NumPy functions:\n",
    "* [`np.arange`](https://numpy.org/doc/stable/reference/generated/numpy.arange.html)\n",
    "* [`np.savez`](https://numpy.org/doc/stable/reference/generated/numpy.savez.html)\n",
    "* [`del`](https://docs.python.org/3/reference/simple_stmts.html#del)\n",
    "* [`whos`](https://ipython.readthedocs.io/en/stable/interactive/magics.html#magic-whos)\n",
    "* [`np.load`](https://numpy.org/doc/stable/reference/generated/numpy.load.html)\n",
    "* [`np.block`](https://numpy.org/doc/stable/reference/generated/numpy.block.html)\n",
    "* [`np.newaxis`](https://numpy.org/doc/stable/reference/constants.html?highlight=newaxis#numpy.newaxis)\n",
    "* [`np.savetxt`](https://numpy.org/doc/stable/reference/generated/numpy.savetxt.html)\n",
    "* [`np.loadtxt`](https://numpy.org/doc/stable/reference/generated/numpy.loadtxt.html)\n"
   ]
  },
  {
   "cell_type": "markdown",
   "metadata": {},
   "source": [
    "***\n",
    "\n",
    "## Create your arrays\n",
    "\n",
    "Now that we have imported the NumPy library, you can make a couple arrays, let's start with two 1D arrays, `x` and `y` where `y = x**2`. We will assign `x` to the integers from 0 to 9 using [`np.arange`](https://numpy.org/doc/stable/reference/generated/numpy.arange.html)."
   ]
  },
  {
   "cell_type": "code",
   "execution_count": null,
   "metadata": {},
   "outputs": [],
   "source": [
    "x = np.arange(0, 10, 1)\n",
    "y = x ** 2\n",
    "print(x)\n",
    "print(y)"
   ]
  },
  {
   "cell_type": "markdown",
   "metadata": {},
   "source": [
    "## Save your arrays with NumPy's [`savez`](https://numpy.org/doc/stable/reference/generated/numpy.savez.html?highlight=savez#numpy.savez)\n",
    "\n",
    "Now we have two arrays in our workspace, \n",
    "\n",
    "`x: [0 1 2 3 4 5 6 7 8 9]`\n",
    "\n",
    "`y: [ 0  1  4  9 16 25 36 49 64 81]`\n",
    "\n",
    "The first thing we will do is save them to a file as zipped arrays using [`savez`](https://numpy.org/doc/stable/reference/generated/numpy.savez.html?highlight=savez#numpy.savez). We will use two options to label the arrays in the file, \n",
    "\n",
    "1. `x_axis = x`: this option is assigning the name `x_axis` to the variable `x`\n",
    "2. `y_axis = y`: this option is assigning the name `y_axis` to the variable `y`"
   ]
  },
  {
   "cell_type": "code",
   "execution_count": null,
   "metadata": {},
   "outputs": [],
   "source": [
    "np.savez(\"x_y-squared.npz\", x_axis=x, y_axis=y)"
   ]
  },
  {
   "cell_type": "markdown",
   "metadata": {},
   "source": [
    "## Remove the saved arrays and load them back with NumPy's [`load`](https://numpy.org/doc/stable/reference/generated/numpy.load.html#numpy.load)\n",
    "\n",
    "If you look in your current working directory, you should have a new file with the name `x_y-squared.npz`. This file is a zipped binary of the two arrays, `x` and `y`. Let's clear the workspace and load the values back in. This `x_y-squared.npz` file contains multiple [NPY format](https://numpy.org/doc/stable/reference/generated/numpy.lib.format.html#module-numpy.lib.format) files. The data is saved in [native binary format](https://en.wikipedia.org/wiki/Binary_file) so you cannot read the numbers in a standard text editor or spreadsheet. \n",
    "\n",
    "1. remove `x` and `y` from the workspaec with [`del`](https://docs.python.org/3/reference/simple_stmts.html#del)\n",
    "2. load the arrays into the workspace in a dictionary with [`np.load`](https://numpy.org/doc/stable/reference/generated/numpy.load.html#numpy.load)\n",
    "\n",
    "We can use the magic command [`whos`](https://ipython.readthedocs.io/en/stable/interactive/magics.html#magic-whos) in Jupyter/IPython to see what variables are in the current workspace."
   ]
  },
  {
   "cell_type": "code",
   "execution_count": null,
   "metadata": {},
   "outputs": [],
   "source": [
    "del x, y"
   ]
  },
  {
   "cell_type": "code",
   "execution_count": null,
   "metadata": {},
   "outputs": [],
   "source": [
    "%whos"
   ]
  },
  {
   "cell_type": "code",
   "execution_count": null,
   "metadata": {},
   "outputs": [],
   "source": [
    "load_xy = np.load(\"x_y-squared.npz\")\n",
    "\n",
    "print(load_xy.files)"
   ]
  },
  {
   "cell_type": "code",
   "execution_count": null,
   "metadata": {},
   "outputs": [],
   "source": [
    "whos"
   ]
  },
  {
   "cell_type": "markdown",
   "metadata": {},
   "source": [
    "## Reassign the NpzFile arrays to `x` and `y`\n",
    "\n",
    "Now, we have created the dictionary with an `NpzFile`-type. The included files are `x_axis` and `y_axis` which we defined in our `savez` command. Finally, we can reassign `x` and `y` to the `load_xy` files.  "
   ]
  },
  {
   "cell_type": "code",
   "execution_count": null,
   "metadata": {},
   "outputs": [],
   "source": [
    "x = load_xy[\"x_axis\"]\n",
    "y = load_xy[\"y_axis\"]\n",
    "print(x)\n",
    "print(y)"
   ]
  },
  {
   "cell_type": "markdown",
   "metadata": {},
   "source": [
    "## Success\n",
    "We have created, saved, deleted, and loaded the variables `x` and `y` using `savez` and `load`. Nice work.\n",
    "\n",
    "## Another option: saving to human-readable csv\n",
    "Let's consider another scenario, we want to share `x` and `y` with other people or other programs. We may need human-readable text file that is easier to share. Next, we use the [`savetxt`](https://numpy.org/doc/stable/reference/generated/numpy.savetxt.html#numpy.savetxt) to save `x` and `y` in a comma separated value file, `x_y-squared.csv`. These files are saved as text and can be loaded back into NumPy or other programs. \n",
    "\n",
    "## Rearrange the data into a single 2D array\n",
    "First, we have to create a single 2D array from our two 1D arrays. The csv-filetype is limited to spreadsheet-style data that has rows and columns. If the data is more complex, it is better to save as a `NpzFile`. Here, we use two NumPy functions to format the data:\n",
    "\n",
    "1. [`np.block`](https://numpy.org/doc/stable/reference/generated/numpy.block.html?highlight=block#numpy.block): this function appends arrays together into a 2D array\n",
    "\n",
    "2. [`np.newaxis`](https://numpy.org/doc/stable/reference/constants.html?highlight=newaxis#numpy.newaxis): this function forces the 1D array into a 2D column vector with 10 rows and 1 column."
   ]
  },
  {
   "cell_type": "code",
   "execution_count": null,
   "metadata": {},
   "outputs": [],
   "source": [
    "array_out = np.block([x[:, np.newaxis], y[:, np.newaxis]])\n",
    "print(\"the output array has shape \", array_out.shape, \" with values:\")\n",
    "print(array_out)"
   ]
  },
  {
   "cell_type": "markdown",
   "metadata": {},
   "source": [
    "## Save the data to csv file using [`savetxt`](https://numpy.org/doc/stable/reference/generated/numpy.savetxt.html#numpy.savetxt)\n",
    "\n",
    "We use `savetxt` with a few options to make our file easier to read:\n",
    "\n",
    "* `X = array_out`: this option tells `savetxt` to save our 2D array, `array_out`, to the file `x_y-squared.csv`\n",
    "* `header = 'x, y'`: this option writes a header before any data that labels the columns of the csv\n",
    "* `delimiter = ','`: this option tells `savetxt` to place a comma between each column in the file"
   ]
  },
  {
   "cell_type": "code",
   "execution_count": null,
   "metadata": {},
   "outputs": [],
   "source": [
    "np.savetxt(\"x_y-squared.csv\", X=array_out, header=\"x, y\", delimiter=\",\")"
   ]
  },
  {
   "cell_type": "markdown",
   "metadata": {},
   "source": [
    "Open the file, `x_y-squared.csv`, and you'll see the following:\n",
    "```\n",
    "# x, y\n",
    "0.000000000000000000e+00,0.000000000000000000e+00\n",
    "1.000000000000000000e+00,1.000000000000000000e+00\n",
    "2.000000000000000000e+00,4.000000000000000000e+00\n",
    "3.000000000000000000e+00,9.000000000000000000e+00\n",
    "4.000000000000000000e+00,1.600000000000000000e+01\n",
    "5.000000000000000000e+00,2.500000000000000000e+01\n",
    "6.000000000000000000e+00,3.600000000000000000e+01\n",
    "7.000000000000000000e+00,4.900000000000000000e+01\n",
    "8.000000000000000000e+00,6.400000000000000000e+01\n",
    "9.000000000000000000e+00,8.100000000000000000e+01\n",
    "```\n",
    "\n",
    "## Our arrays as a csv file\n",
    "\n",
    "There are two features that become apparent here:\n",
    "\n",
    "1. The header starts with `#`. This is done for the sake of loading the array back into NumPy. If you're using [`loadtxt`](https://numpy.org/doc/stable/reference/generated/numpy.loadtxt.html) with other csv files, you can skip header rows with `skiprows = <number_of_header_lines>`.\n",
    "2. The integers were written in scientific notation. _You can_ specify the format of the text using the `savetxt` option, [`fmt = `](https://docs.python.org/3/library/string.html#formatstrings), but it will still be written with ASCII characters. In general, you cannot preserve the type of ASCII numbers as `float` or `int`. \n",
    "\n",
    "\n",
    "Now, let's delete `x` and `y` again and assign them to our columns in `x-y_squared.csv`. "
   ]
  },
  {
   "cell_type": "code",
   "execution_count": null,
   "metadata": {},
   "outputs": [],
   "source": [
    "del x, y"
   ]
  },
  {
   "cell_type": "code",
   "execution_count": null,
   "metadata": {},
   "outputs": [],
   "source": [
    "load_xy = np.loadtxt(\n",
    "    \"x_y-squared.csv\", \n",
    "    delimiter=\",\")"
   ]
  },
  {
   "cell_type": "code",
   "execution_count": null,
   "metadata": {},
   "outputs": [],
   "source": [
    "load_xy.shape"
   ]
  },
  {
   "cell_type": "code",
   "execution_count": null,
   "metadata": {},
   "outputs": [],
   "source": [
    "x = load_xy[:, 0]\n",
    "y = load_xy[:, 1]\n",
    "print(x)\n",
    "print(y)"
   ]
  },
  {
   "cell_type": "markdown",
   "metadata": {},
   "source": [
    "## Success, but remember your types\n",
    "\n",
    "When we saved the arrays to the csv file, we did not preserve the `int` type. When loading the arrays back into our workspace the default process will be to load the csv file as a 2D floating point array e.g. `load_xy.dtype == 'float64'` and `load_xy.shape == (10, 2)`. "
   ]
  },
  {
   "cell_type": "markdown",
   "metadata": {},
   "source": [
    "# Wrapping up\n",
    "\n",
    "In conclusion, you can create, save, and load arrays in NumPy. Saving arrays makes sharing your work and collaboration much easier. There are other ways Python can save data to files, such as [pickle](https://docs.python.org/3/library/pickle.html), but `savez` and `savetxt` will serve most of your storage needs for future NumPy work and sharing with other people, respectively. \n",
    "\n",
    "__Next steps__: you can import data with missing values from [Importing with genfromtext](https://numpy.org/devdocs/user/basics.io.genfromtxt.html) or learn more about general NumPy IO with [Reading and Writing Files](https://numpy.org/devdocs/user/how-to-io.html). "
   ]
  }
 ],
 "metadata": {
  "kernelspec": {
   "display_name": "Python 3",
   "language": "python",
   "name": "python3"
  },
  "language_info": {
   "codemirror_mode": {
    "name": "ipython",
    "version": 3
   },
   "file_extension": ".py",
   "mimetype": "text/x-python",
   "name": "python",
   "nbconvert_exporter": "python",
   "pygments_lexer": "ipython3",
   "version": "3.8.3"
  }
 },
 "nbformat": 4,
 "nbformat_minor": 4
}
